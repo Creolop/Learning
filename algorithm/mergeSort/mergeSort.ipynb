{
 "cells": [
  {
   "cell_type": "markdown",
   "metadata": {},
   "source": [
    "# MergeSort\n",
    "## Time complexity:\n",
    "best case: $O(nlgn)$\n",
    "worst case: $O(nlgn)$\n",
    "average case: $O(nlgn)$\n",
    "\n",
    "## Space complexity:\n",
    "$O(n)$ merge算法中需要一个最大为$n$的地方放置东西\n"
   ]
  },
  {
   "cell_type": "code",
   "execution_count": 19,
   "metadata": {
    "collapsed": false
   },
   "outputs": [],
   "source": [
    "def mergeSort(array):\n",
    "    if(len(array) <= 1):\n",
    "        return array\n",
    "    else:\n",
    "        mid = int(len(array)/2)\n",
    "        left = mergeSort(array[:mid])\n",
    "        right = mergeSort(array[mid:])\n",
    "        result = merge(left,right)\n",
    "        return result\n",
    "# 注意list[:]的用法\n",
    "def merge(left,right):\n",
    "    i,j = 0,0\n",
    "    result = []    \n",
    "    while(i < len(left) and j < len(right)):\n",
    "        if(left[i]<right[j]):\n",
    "            result.append(left[i])\n",
    "            i += 1\n",
    "        else:\n",
    "            result.append(right[j])\n",
    "            j += 1\n",
    "    result += left[i:]\n",
    "    result += right[j:]\n",
    "    return result"
   ]
  },
  {
   "cell_type": "code",
   "execution_count": 20,
   "metadata": {
    "collapsed": false
   },
   "outputs": [
    {
     "name": "stdout",
     "output_type": "stream",
     "text": [
      "[1, 2, 3]\n"
     ]
    }
   ],
   "source": [
    "list = [2,3,1]\n",
    "list2 = mergeSort(list)\n",
    "print(list2)"
   ]
  },
  {
   "cell_type": "code",
   "execution_count": null,
   "metadata": {
    "collapsed": true
   },
   "outputs": [],
   "source": []
  }
 ],
 "metadata": {
  "kernelspec": {
   "display_name": "Python 3",
   "language": "python",
   "name": "python3"
  },
  "language_info": {
   "codemirror_mode": {
    "name": "ipython",
    "version": 3
   },
   "file_extension": ".py",
   "mimetype": "text/x-python",
   "name": "python",
   "nbconvert_exporter": "python",
   "pygments_lexer": "ipython3",
   "version": "3.6.0"
  }
 },
 "nbformat": 4,
 "nbformat_minor": 2
}
