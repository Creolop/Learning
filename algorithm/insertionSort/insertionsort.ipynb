{
 "cells": [
  {
   "cell_type": "markdown",
   "metadata": {},
   "source": [
    "# Insertion Sort\n",
    "## time complexity:\n",
    "best case: $O(n)$\n",
    "\n",
    "worst case: $$\\sum_{i=1}^n i = O(n^2)$$\n",
    "\n",
    "average case: $O(n^2)$\n",
    "\n",
    "## space complexity: \n",
    "using former address $O(1)$"
   ]
  },
  {
   "cell_type": "code",
   "execution_count": 47,
   "metadata": {
    "collapsed": false
   },
   "outputs": [],
   "source": [
    "def insertionSort(array):\n",
    "    \n",
    "    for i in range(0,len(array)):\n",
    "        index = 0\n",
    "        for j in range(0,i):\n",
    "            if(array[i]>array[j]):\n",
    "                index += 1\n",
    "            else:\n",
    "                break\n",
    "#                 不能直接使用j作为index，会导致循环条件继续错误\n",
    "#                 temp = array[i]\n",
    "#                 for k in range(i-1,j,-1):\n",
    "#                     array[k+1] = array[k]\n",
    "#                 array[j+1] = temp\n",
    "        temp = array[i]\n",
    "        for k in range(i,index,-1):\n",
    "            array[k] = array[k-1]\n",
    "        array[index] = temp\n",
    "    "
   ]
  }
 ],
 "metadata": {
  "kernelspec": {
   "display_name": "Python 3",
   "language": "python",
   "name": "python3"
  },
  "language_info": {
   "codemirror_mode": {
    "name": "ipython",
    "version": 3
   },
   "file_extension": ".py",
   "mimetype": "text/x-python",
   "name": "python",
   "nbconvert_exporter": "python",
   "pygments_lexer": "ipython3",
   "version": "3.6.0"
  }
 },
 "nbformat": 4,
 "nbformat_minor": 2
}
